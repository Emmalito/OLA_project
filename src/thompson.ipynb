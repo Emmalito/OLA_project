{
 "cells": [
  {
   "cell_type": "code",
   "execution_count": 13,
   "metadata": {},
   "outputs": [],
   "source": [
    "import numpy as np\n",
    "import matplotlib.pyplot as plt"
   ]
  },
  {
   "cell_type": "code",
   "execution_count": 14,
   "metadata": {},
   "outputs": [],
   "source": [
    "class Environment: \n",
    "    #interact with the learner by returning stochastic reward\n",
    "    # depending of the pulled arm\n",
    "    def __init__(self, n_arms, probabilities):\n",
    "        # defined by the nb of arms and \n",
    "        # proba distribution of arms rewards\n",
    "        self.n_arms = n_arms\n",
    "        self.probabilities = probabilities\n",
    "    \n",
    "    def round(self, pulled_arm):\n",
    "        # we suppose here that the probDistribution of reward is binomial\n",
    "        # 1 because we are in a bernoulli\n",
    "        reward = np.random.binomial(1,self.probabilities[pulled_arm])\n",
    "        return reward\n",
    "    "
   ]
  },
  {
   "cell_type": "code",
   "execution_count": 15,
   "metadata": {},
   "outputs": [],
   "source": [
    "class learner:\n",
    "    #interact with environement by selecting the arm to pull\n",
    "    # and observe reward given by the environement\n",
    "    def __init__(self, n_arms):\n",
    "        # defined by nb arms, current round and the collected rewards\n",
    "        self.n_arms = n_arms\n",
    "        self.t=0\n",
    "        self.reward_per_arm = x = [[] for _ in range(n_arms)]\n",
    "        self.collected_rewards = np.array([])\n",
    "\n",
    "    def update_observations(self, pulled_arm, reward):\n",
    "        self.reward_per_arm[pulled_arm].append(reward)\n",
    "        self.collected_rewards = np.append(self.collected_rewards, reward)\n"
   ]
  },
  {
   "cell_type": "code",
   "execution_count": 16,
   "metadata": {},
   "outputs": [],
   "source": [
    "class TS_Learner(learner):\n",
    "    def __init__(self, n_arms):\n",
    "        super().__init__(n_arms)\n",
    "        # store beta distribution\n",
    "        self.beta_parameters = np.ones((n_arms,2))\n",
    "\n",
    "    def pull_arm(self):\n",
    "        #select the best arm\n",
    "        idx = np.argmax(np.random.beta(self.beta_parameters[:,0],self.beta_parameters[:,1]))\n",
    "        return idx\n",
    "\n",
    "    def update(self, pulled_arm, reward):\n",
    "        #updtate his parameters\n",
    "        self.t+=1\n",
    "        self.update_observations(pulled_arm,reward)\n",
    "        self.beta_parameters[pulled_arm,0] = self.beta_parameters[pulled_arm,0]+reward # count how many succes we have\n",
    "        self.beta_parameters[pulled_arm,1] = self.beta_parameters[pulled_arm,1]+1-reward # count the opposit"
   ]
  },
  {
   "cell_type": "code",
   "execution_count": 17,
   "metadata": {},
   "outputs": [],
   "source": [
    "class GreadyLearner(learner): \n",
    "    # in order to compare with the TS learner\n",
    "    def __init__(self, n_arms):\n",
    "        super().__init__(n_arms)\n",
    "        self.expected_rewards = np.zeros(n_arms)\n",
    "\n",
    "    def pull_arm(self):\n",
    "        if(self.t<self.n_arms):\n",
    "            return self.t # assure to select each arms at first\n",
    "        #select the maximizer arms\n",
    "        idxs = np.argwhere(self.expected_rewards == self.expected_rewards.max()).reshape(-1)\n",
    "        #compute a choice randomly between the best\n",
    "        pulled_arm = np.random.choice(idxs)\n",
    "        return pulled_arm\n",
    "\n",
    "    def update(self, pulled_arm, reward):\n",
    "        self.t+=1\n",
    "        self.update_observations(pulled_arm, reward)\n",
    "        self.expected_rewards[pulled_arm] = (self.expected_rewards[pulled_arm]*(self.t-1)+reward)/self.t\n",
    "        "
   ]
  },
  {
   "cell_type": "code",
   "execution_count": 20,
   "metadata": {},
   "outputs": [
    {
     "data": {
      "image/png": "[encoded data removed]",
      "text/plain": [
       "<Figure size 432x288 with 1 Axes>"
      ]
     },
     "metadata": {
      "needs_background": "light"
     },
     "output_type": "display_data"
    }
   ],
   "source": [
    "n_arms = 4\n",
    "p = np.array([0.15,0.1,0.1,0.35])\n",
    "opt = p[3]\n",
    "\n",
    "T = 300\n",
    "\n",
    "n_experiments = 1000\n",
    "ts_rewards_per_experiment = []\n",
    "gr_rewards_per_experiment = []\n",
    "\n",
    "\n",
    "for e in range(0, n_experiments):\n",
    "    env = Environment (n_arms=n_arms, probabilities = p)\n",
    "    ts_learner = TS_Learner(n_arms=n_arms)\n",
    "    gr_learner = GreadyLearner(n_arms=n_arms)\n",
    "\n",
    "    for t in range(0, T):\n",
    "    #Thompson Sampling learner\n",
    "        pulled_arm = ts_learner.pull_arm()\n",
    "        reward = env.round(pulled_arm)\n",
    "        ts_learner.update(pulled_arm, reward)\n",
    "    \n",
    "    #Greedy learning\n",
    "        pulled_arm = gr_learner.pull_arm()\n",
    "        reward = env.round(pulled_arm)\n",
    "        gr_learner.update(pulled_arm, reward)\n",
    "\n",
    "    ts_rewards_per_experiment.append(ts_learner.collected_rewards)\n",
    "    gr_rewards_per_experiment.append(gr_learner.collected_rewards)\n",
    "\n",
    "\n",
    "plt.figure(0)\n",
    "plt.xlabel(\"t\")\n",
    "plt.ylabel(\"regret\")\n",
    "plt.plot(np.cumsum(np.mean(opt-ts_rewards_per_experiment,axis=0)), 'r')\n",
    "plt.plot(np.cumsum(np.mean(opt-gr_rewards_per_experiment,axis=0)), 'g')\n",
    "plt.legend([\"TS\", \"GR\"])\n",
    "plt.show()\n",
    "\n"
   ]
  }
 ],
 "metadata": {
  "interpreter": {
   "hash": "e7370f93d1d0cde622a1f8e1c04877d8463912d04d973331ad4851f04de6915a"
  },
  "kernelspec": {
   "display_name": "Python 3.10.2 64-bit",
   "language": "python",
   "name": "python3"
  },
  "language_info": {
   "codemirror_mode": {
    "name": "ipython",
    "version": 3
   },
   "file_extension": ".py",
   "mimetype": "text/x-python",
   "name": "python",
   "nbconvert_exporter": "python",
   "pygments_lexer": "ipython3",
   "version": "3.10.5"
  },
  "orig_nbformat": 4
 },
 "nbformat": 4,
 "nbformat_minor": 2
}
